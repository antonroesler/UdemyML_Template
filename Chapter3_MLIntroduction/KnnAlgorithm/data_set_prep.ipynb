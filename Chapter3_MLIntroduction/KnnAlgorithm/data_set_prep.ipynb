{
 "cells": [
  {
   "cell_type": "code",
   "execution_count": 4,
   "metadata": {},
   "outputs": [],
   "source": [
    "import numpy as np\n",
    "np.random.seed(42)"
   ]
  },
  {
   "cell_type": "code",
   "execution_count": 5,
   "metadata": {},
   "outputs": [],
   "source": [
    "def generate_dataset():\n",
    "    num_samples_class1 = 10\n",
    "    num_samples_class2 = 6\n",
    "    num_samples_class3 = 13\n",
    "    cov = np.array([[1, 0], [0, 1]])\n",
    "    data1 = np.random.multivariate_normal(mean=[0, 0], cov=cov, size=num_samples_class1)\n",
    "    data2 = np.random.multivariate_normal(mean=[-10, 4], cov=cov, size=num_samples_class2)\n",
    "    data3 = np.random.multivariate_normal(mean=[10, 10], cov=cov, size=num_samples_class3)\n",
    "    \n",
    "    data = np.concatenate((data1, data2, data3), axis=0)\n",
    "    classes = np.array( [0 for i in range(num_samples_class1)] + [1 for i in range(num_samples_class2)] + [2 for i in range(num_samples_class3)] )\n",
    "    return data, classes"
   ]
  },
  {
   "cell_type": "code",
   "execution_count": 9,
   "metadata": {},
   "outputs": [],
   "source": [
    "x, y = generate_dataset()"
   ]
  },
  {
   "cell_type": "code",
   "execution_count": 10,
   "metadata": {},
   "outputs": [
    {
     "name": "stdout",
     "output_type": "stream",
     "text": [
      "x shape: (29, 2)\n",
      "y shape: (29,)\n"
     ]
    }
   ],
   "source": [
    "print(f\"x shape: {x.shape}\")\n",
    "print(f\"y shape: {y.shape}\")"
   ]
  },
  {
   "cell_type": "code",
   "execution_count": 11,
   "metadata": {},
   "outputs": [],
   "source": [
    "import matplotlib.pyplot as plt\n",
    "\n",
    "def plot_data(x, y):\n",
    "    plt.scatter(x[:, 0], x[:, 1], c=y, s=50, cmap='viridis')\n",
    "    plt.show()"
   ]
  },
  {
   "cell_type": "code",
   "execution_count": 13,
   "metadata": {},
   "outputs": [
    {
     "data": {
      "image/png": "[encoded data removed]",
      "text/plain": [
       "<Figure size 432x288 with 1 Axes>"
      ]
     },
     "metadata": {
      "needs_background": "light"
     },
     "output_type": "display_data"
    }
   ],
   "source": [
    "plot_data(x, y)"
   ]
  },
  {
   "cell_type": "markdown",
   "metadata": {},
   "source": [
    "# KNN Implementation"
   ]
  },
  {
   "cell_type": "code",
   "execution_count": 22,
   "metadata": {},
   "outputs": [],
   "source": [
    "class KNeighborClassifier:\n",
    "    def __init__(self, n_neighbors: int = 5):\n",
    "        self.n_neighbors = n_neighbors\n",
    "        self.X: np.ndarray\n",
    "        self.y: np.ndarray\n",
    "        self.num_classes: int\n",
    "    \n",
    "    def _distance(self, p1: np.ndarray, p2: np.ndarray):\n",
    "        return np.linalg.norm(p1 - p2)\n",
    "    \n",
    "    def kneighbors(self, X: np.ndarray):\n",
    "        distances = np.array([[self._distance(sample, x_i) for x_i in self.X] for sample in X])\n",
    "        sorted_distances_idx = np.argsort(distances[:])\n",
    "        kneighbors_idxs = sorted_distances_idx[:, :self.n_neighbors]\n",
    "        return kneighbors_idxs\n",
    "\n",
    "    def fit(self, X: np.ndarray, y: np.ndarray):\n",
    "        self.X = X\n",
    "        self.y = y\n",
    "        self.num_classes = len(np.unique(self.y))\n",
    "\n",
    "\n",
    "    def _vote_class(self, kneighbors_idxs: np.ndarray):\n",
    "        votes = np.zeros(shape=(self.num_classes))\n",
    "        neighbors_classes = self.y[kneighbors_idxs]\n",
    "        for neighbor_class in neighbors_classes:\n",
    "            votes[neighbor_class] += 1\n",
    "        voted_class = np.argmax(votes)\n",
    "        return voted_class\n",
    "\n",
    "    def predict(self, X: np.ndarray):\n",
    "        kneighbors_idx = self.kneighbors(X)\n",
    "        y_pred = np.array([self._vote_class(kneighbor_idxs) for kneighbor_idxs in kneighbors_idx])\n",
    "        return y_pred\n",
    "\n",
    "    def score(self, X: np.ndarray, y: np.ndarray):\n",
    "        y_pred = self.predict(X)\n",
    "        accuracy = np.mean(y_pred == y)\n",
    "        return accuracy"
   ]
  },
  {
   "cell_type": "code",
   "execution_count": 49,
   "metadata": {},
   "outputs": [
    {
     "name": "stdout",
     "output_type": "stream",
     "text": [
      "y_pred: [0 2 0]\n",
      "score: 0.0\n"
     ]
    },
    {
     "name": "stderr",
     "output_type": "stream",
     "text": [
      "<ipython-input-22-d28feecce766>:38: DeprecationWarning: elementwise comparison failed; this will raise an error in the future.\n",
      "  accuracy = np.mean(y_pred == y)\n"
     ]
    }
   ],
   "source": [
    "x_test = np.array([\n",
    "    [-6, 0.1],\n",
    "    [10, 4.9],\n",
    "    [-3, 8]\n",
    "])\n",
    "y_test = np.array([0, 1])\n",
    "\n",
    "clf = KNeighborClassifier(n_neighbors=3)\n",
    "clf.fit(x, y)\n",
    "\n",
    "y_pred = clf.predict(x_test)\n",
    "\n",
    "score = clf.score(x_test, y_test)\n",
    "\n",
    "print(f\"y_pred: {y_pred}\")\n",
    "print(f\"score: {score}\")"
   ]
  },
  {
   "cell_type": "code",
   "execution_count": 50,
   "metadata": {},
   "outputs": [],
   "source": [
    "def plot_knn_predicition(clf: KNeighborClassifier, X_samples: np.ndarray, X: np.ndarray, y: np.ndarray):\n",
    "    colors = ['red', 'blue', 'green']\n",
    "    for index, point in enumerate(X):\n",
    "        plt.scatter(point[0], point[1], c=colors[y[index]])\n",
    "    neighbors_idx = clf.kneighbors(X_samples)\n",
    "    for index, point in enumerate(X_samples):\n",
    "        neighbors_points = clf.X[neighbors_idx][index]\n",
    "        neighbors_classes = clf.y[neighbors_idx][index]\n",
    "        plt.scatter(point[0], point[1], c=\"black\")\n",
    "        for neighbor_point, neighbor_class in zip(neighbors_points, neighbors_classes):\n",
    "            plt.plot([point[0], neighbor_point[0]], [point[1], neighbor_point[1]], '--', c=colors[neighbor_class])\n",
    "    plt.show()"
   ]
  },
  {
   "cell_type": "code",
   "execution_count": 51,
   "metadata": {},
   "outputs": [
    {
     "data": {
      "image/png": "[encoded data removed]",
      "text/plain": [
       "<Figure size 432x288 with 1 Axes>"
      ]
     },
     "metadata": {
      "needs_background": "light"
     },
     "output_type": "display_data"
    }
   ],
   "source": [
    "plot_knn_predicition(clf, x_test, x, y)"
   ]
  },
  {
   "cell_type": "code",
   "execution_count": null,
   "metadata": {},
   "outputs": [],
   "source": []
  }
 ],
 "metadata": {
  "interpreter": {
   "hash": "38cca0c38332a56087b24af0bc80247f4fced29cb4f7f437d91dc159adec9c4e"
  },
  "kernelspec": {
   "display_name": "Python 3.8.5 64-bit ('base': conda)",
   "language": "python",
   "name": "python3"
  },
  "language_info": {
   "codemirror_mode": {
    "name": "ipython",
    "version": 3
   },
   "file_extension": ".py",
   "mimetype": "text/x-python",
   "name": "python",
   "nbconvert_exporter": "python",
   "pygments_lexer": "ipython3",
   "version": "3.8.5"
  },
  "orig_nbformat": 4
 },
 "nbformat": 4,
 "nbformat_minor": 2
}
